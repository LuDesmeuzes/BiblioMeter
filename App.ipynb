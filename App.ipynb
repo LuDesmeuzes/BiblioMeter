{
 "cells": [
  {
   "cell_type": "code",
   "execution_count": null,
   "id": "ff9921e8-3662-4790-a7a0-d7ee20215366",
   "metadata": {
    "tags": []
   },
   "outputs": [
    {
     "name": "stderr",
     "output_type": "stream",
     "text": [
      "[nltk_data] Downloading package averaged_perceptron_tagger to\n",
      "[nltk_data]     C:\\Users\\LD259969\\AppData\\Roaming\\nltk_data...\n",
      "[nltk_data]   Package averaged_perceptron_tagger is already up-to-\n",
      "[nltk_data]       date!\n",
      "[nltk_data] Downloading package punkt to\n",
      "[nltk_data]     C:\\Users\\LD259969\\AppData\\Roaming\\nltk_data...\n",
      "[nltk_data]   Package punkt is already up-to-date!\n",
      "[nltk_data] Downloading package wordnet to\n",
      "[nltk_data]     C:\\Users\\LD259969\\AppData\\Roaming\\nltk_data...\n",
      "[nltk_data]   Package wordnet is already up-to-date!\n"
     ]
    },
    {
     "name": "stdout",
     "output_type": "stream",
     "text": [
      "Number of detected displays: 2\n"
     ]
    },
    {
     "name": "stdin",
     "output_type": "stream",
     "text": [
      "\n",
      "Select Id of gui prime-display (value: 0 to 1; default:1) 1\n"
     ]
    },
    {
     "name": "stderr",
     "output_type": "stream",
     "text": [
      "Exception in Tkinter callback\n",
      "Traceback (most recent call last):\n",
      "  File \"C:\\Users\\LD259969\\Documents\\PyVersions\\python3.9.7\\lib\\tkinter\\__init__.py\", line 1892, in __call__\n",
      "    return self.func(*args)\n",
      "  File \"C:\\Users\\LD259969\\Documents\\PyVenv\\BiblioMeter\\BiblioMeter_GUI\\BiblioMeter_UsefulClasses.py\", line 51, in get_file\n",
      "    return messagebox.showwarning(\"Attention\",\"Chemin non renseigné\")\n",
      "NameError: name 'messagebox' is not defined\n"
     ]
    }
   ],
   "source": [
    "from BiblioMeter_GUI.BiblioMeter_PagesClasses import App_Test\n",
    "\n",
    "app = App_Test()\n",
    "app.mainloop()"
   ]
  },
  {
   "cell_type": "code",
   "execution_count": null,
   "id": "f735c2f2-013a-4cbc-8c9e-f4e9cc6bb5eb",
   "metadata": {},
   "outputs": [],
   "source": [
    "from pathlib import Path\n",
    "path = Path(r\"S:\\130-LITEN\\130.1-Direction\\130.1.2-Direction Scientifique\\130.1.2.1-Dossiers en cours\\111- Ludovic Desmeuzes\\BiblioMeter_Files\\2022\\BDD multi mensuelle\\submit.xlsx\")"
   ]
  },
  {
   "cell_type": "code",
   "execution_count": null,
   "id": "1945a45a-a55f-4f3a-a899-406522fbe55e",
   "metadata": {},
   "outputs": [],
   "source": [
    "import pandas as pd\n",
    "df = pd.read_excel(path)\n",
    "df['Nom Prénom']=df.apply(lambda x:'%s %s' % (x['Nom'], x['Prénom']),axis=1)\n",
    "\n",
    "set_1 = ['Pub_id', 'Idx_author', 'Address', 'Country',\n",
    "       'Institutions', 'LITEN_France', 'Co_author', 'Authors', 'Year',\n",
    "       'Journal', 'Volume', 'Page', 'DOI', 'Document_type', 'Language',\n",
    "       'Title', 'ISSN', 'Matricule', 'Nom', 'Prénom', 'Nom Prénom', \n",
    "       'Sexe(lib)', 'Nationalité (lib)', 'Catégorie de salarié (lib)',\n",
    "       'Statut de salarié (lib)', 'Filière classement (lib)',\n",
    "       'Qualification classement (lib)', 'Spécialité poste (lib)',\n",
    "       'Nature de contrat (lib)', 'Annexe classement',\n",
    "       \"Date d'effet classement\", 'Date début contrat', 'Date dernière entrée',\n",
    "       'Date de fin de contrat', 'Dpt/DOB (lib court)', 'Service (lib court)',\n",
    "       'Laboratoire (lib court)', 'Laboratoire (lib long)',\n",
    "       'N° id du poste budgétaire', 'Unité structurelle',\n",
    "       'Unité structurelle (code R3)', 'Nature de dépenses', 'TA',\n",
    "       \"Taux d'Activité\", \"Règle de plan de roulement (lib)\",\n",
    "       'Regpt PR niveau 1(lib)', 'Date de naissance', 'Age',\n",
    "       \"Tranche d'age (5 ans)\", 'Mois', 'Année', 'list of Dpt/DOB (lib court)',\n",
    "       'list of Service (lib court)']\n",
    "\n",
    "df_1 = df[set_1]\n",
    "\n",
    "def access_values(df, column):\n",
    "    values = df[column].unique().tolist()\n",
    "    values.sort()\n",
    "    return values"
   ]
  },
  {
   "cell_type": "code",
   "execution_count": null,
   "id": "d61b1e4b-ab1b-4237-a0a0-5478173d390e",
   "metadata": {},
   "outputs": [],
   "source": [
    "import tkinter as tk\n",
    "\n",
    "class ColumnFilter:\n",
    "    \"\"\"\n",
    "    \"\"\"\n",
    "    def __init__(self, parent, text_label, *arg, **kargs):\n",
    "        \n",
    "        # 3rd party imports\n",
    "        import tkinter as tk\n",
    "        \n",
    "        self.check_column = tk.Checkbutton(parent)\n",
    "        self.column_name = tk.Label(parent)\n",
    "        self.drop_down = tk.OptionMenu(parent)\n",
    "        self.check_value = tk.Checkbutton(parent)\n",
    "        \n",
    "        # Placement\n",
    "        \n",
    "    def place(self, x, y):\n",
    "        pass\n",
    "    \n",
    "root = tk.Tk()\n",
    "\n",
    "\n",
    "\n",
    "\n",
    "\n",
    "\n",
    "\n",
    "root.mainloop()"
   ]
  },
  {
   "cell_type": "code",
   "execution_count": null,
   "id": "d7084931-bb59-4c7f-a692-f41628d90e50",
   "metadata": {},
   "outputs": [],
   "source": [
    "# Import module\n",
    "from tkinter import *\n",
    "  \n",
    "# Create object\n",
    "root = Tk()\n",
    "  \n",
    "# Adjust size\n",
    "root.geometry( \"200x200\" )\n",
    "  \n",
    "# Change the label text\n",
    "def show():\n",
    "    label.config( text = clicked.get() )\n",
    "  \n",
    "# Dropdown menu options\n",
    "options = set_1\n",
    "  \n",
    "# datatype of menu text\n",
    "clicked = StringVar()\n",
    "  \n",
    "# initial menu text\n",
    "clicked.set( \"Monday\" )\n",
    "  \n",
    "# Create Dropdown menu\n",
    "drop = OptionMenu( root , clicked , *options )\n",
    "drop.pack()\n",
    "  \n",
    "# Create button, it will change label text\n",
    "button = Button( root , text = \"click Me\" , command = show ).pack()\n",
    "  \n",
    "# Create Label\n",
    "label = Label( root , text = \" \" )\n",
    "label.pack()\n",
    "  \n",
    "# Execute tkinter\n",
    "root.mainloop()"
   ]
  },
  {
   "cell_type": "code",
   "execution_count": null,
   "id": "49b08551-6880-47f6-b9e7-1b1fd1009341",
   "metadata": {},
   "outputs": [],
   "source": []
  }
 ],
 "metadata": {
  "kernelspec": {
   "display_name": "BiblioMeter_kernel",
   "language": "python",
   "name": "bibliometer_kernel"
  },
  "language_info": {
   "codemirror_mode": {
    "name": "ipython",
    "version": 3
   },
   "file_extension": ".py",
   "mimetype": "text/x-python",
   "name": "python",
   "nbconvert_exporter": "python",
   "pygments_lexer": "ipython3",
   "version": "3.9.7"
  }
 },
 "nbformat": 4,
 "nbformat_minor": 5
}
