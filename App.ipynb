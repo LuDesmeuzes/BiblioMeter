{
 "cells": [
  {
   "cell_type": "code",
   "execution_count": null,
   "id": "ff9921e8-3662-4790-a7a0-d7ee20215366",
   "metadata": {
    "tags": []
   },
   "outputs": [],
   "source": [
    "from BiblioMeter_GUI.Page_Classes import App_Test\n",
    "\n",
    "app = App_Test()\n",
    "app.mainloop()"
   ]
  },
  {
   "cell_type": "code",
   "execution_count": null,
   "id": "fe2a7bcb-2720-442e-be5a-fcae35bded08",
   "metadata": {
    "jupyter": {
     "source_hidden": true
    },
    "tags": []
   },
   "outputs": [],
   "source": [
    "# Python program demonstrating Multiple selection\n",
    "# in Listbox widget with a scrollbar\n",
    "  \n",
    "from tkinter import *\n",
    "  \n",
    "window = Tk()\n",
    "window.title('Multiple selection')\n",
    "  \n",
    "# for scrolling vertically\n",
    "yscrollbar = Scrollbar(window)\n",
    "yscrollbar.pack(side = RIGHT, fill = Y)\n",
    "  \n",
    "label = Label(window,\n",
    "              text = \"Select the languages below :  \",\n",
    "              font = (\"Times New Roman\", 10), \n",
    "              padx = 10, pady = 10)\n",
    "label.pack()\n",
    "list = Listbox(window, selectmode = \"multiple\", \n",
    "               yscrollcommand = yscrollbar.set)\n",
    "  \n",
    "# Widget expands horizontally and \n",
    "# vertically by assigning both to\n",
    "# fill option\n",
    "list.pack(padx = 10, pady = 10,\n",
    "          expand = YES, fill = \"both\")\n",
    "  \n",
    "x =[\"C\", \"C++\", \"C#\", \"Java\", \"Python\",\n",
    "    \"R\", \"Go\", \"Ruby\", \"JavaScript\", \"Swift\",\n",
    "    \"SQL\", \"Perl\", \"XML\"]\n",
    "  \n",
    "for each_item in range(len(x)):\n",
    "      \n",
    "    list.insert(END, x[each_item])\n",
    "    list.itemconfig(each_item, bg = \"lime\")\n",
    "\n",
    "list.selection_set(first = 5)\n",
    "\n",
    "# Attach listbox to vertical scrollbar\n",
    "yscrollbar.config(command = list.yview)\n",
    "window.mainloop()"
   ]
  },
  {
   "cell_type": "code",
   "execution_count": null,
   "id": "7f6c90c8-3283-4d23-8d54-df3f89535c7b",
   "metadata": {
    "tags": []
   },
   "outputs": [],
   "source": [
    "# Standard library imports\n",
    "import os\n",
    "from pathlib import Path\n",
    "\n",
    "# 3rd party imports\n",
    "import tkinter as tk\n",
    "from tkinter import ttk\n",
    "from tkinter import filedialog\n",
    "from tkinter import messagebox\n",
    "import pandas as pd\n",
    "\n",
    "# Local imports\n",
    "import BiblioAnalysis_Utils as bau\n",
    "from BiblioMeter_GUI.BiblioMeter_AllPagesFunctions import five_last_available_years\n",
    "from BiblioMeter_GUI.BiblioMeter_UsefulClasses import ColumnFilter\n",
    "from BiblioMeter_GUI.Globals_GUI import STOCKAGE_ARBORESCENCE\n",
    "from BiblioMeter_GUI.Globals_GUI import SET_1\n",
    "from BiblioMeter_GUI.Globals_GUI import SUBMIT_FILE_NAME\n",
    "\n",
    "\n",
    "from BiblioAnalysis_Utils.BiblioSpecificGlobals import DIC_OUTDIR_PARSING\n",
    "from BiblioAnalysis_Utils.BiblioSpecificGlobals import FOLDER_NAMES\n",
    "\n",
    "bibliometer_path = \"S:/130-LITEN/130.1-Direction/130.1.2-Direction Scientifique/130.1.2.1-Dossiers en cours/111- Ludovic Desmeuzes/BiblioMeter_Files\"\n",
    "\n",
    "newWindow = tk.Tk()\n",
    "newWindow.title('Création du filtre')\n",
    "newWindow.resizable(False, False)\n",
    "newWindow.geometry(f\"600x600+{newWindow.winfo_rootx()}+{newWindow.winfo_rooty()}\")\n",
    "\n",
    "# Useful alias\n",
    "bdd_mensuelle_alias = STOCKAGE_ARBORESCENCE['general'][0]\n",
    "submit_alias = SUBMIT_FILE_NAME\n",
    "\n",
    "### Choose which year you want to be working with #############################################################################################################\n",
    "years_list = five_last_available_years(bibliometer_path)\n",
    "variable = tk.StringVar(newWindow)\n",
    "variable.set(years_list[0])\n",
    "\n",
    "    # Création de l'optionbutton des années\n",
    "OptionButton = tk.OptionMenu(newWindow, variable, *years_list)\n",
    "#OptionButton.place(anchor = 'center', relx = 0.25, rely = 0.15)\n",
    "\n",
    "    # Création du label\n",
    "Label = tk.Label(newWindow, text = '''Choisir l'année de travail :''')\n",
    "#Label.place(anchor = 'center', relx = 0.10, rely = 0.15)\n",
    "###############################################################################################################################################################\n",
    "\n",
    "### Bouton qui va permettre de lancer la création du filtre ###################################################################################################\n",
    "Button = tk.Button(newWindow, \n",
    "                   text = 'Création du filtre', \n",
    "                   command = lambda: _create_filter())\n",
    "#Button.place(anchor = 'center', relx = 0.45, rely = 0.15)\n",
    "################################################################################################################################################################\n",
    "\n",
    "## Create a Frame\n",
    "main_frame = tk.LabelFrame(newWindow, highlightbackground = 'red', highlightthickness = 1)\n",
    "backup_frame = tk.LabelFrame(newWindow, highlightbackground = 'red', highlightthickness = 1)\n",
    "\n",
    "# Create a canvas\n",
    "my_canvas = tk.Canvas(main_frame)\n",
    "my_canvas.pack(side = tk.LEFT, fill = tk.BOTH, expand = 1)\n",
    "\n",
    "# Add a scrollbar to the canvas\n",
    "my_scrollbar = ttk.Scrollbar(main_frame, orient = tk.VERTICAL, command = my_canvas.yview)\n",
    "my_scrollbar.pack(side = tk.RIGHT, fill = tk.Y)\n",
    "\n",
    "# Configure the canvas\n",
    "my_canvas.configure(yscrollcommand = my_scrollbar.set)\n",
    "my_canvas.bind('<Configure>', lambda e : my_canvas.configure(scrollregion = my_canvas.bbox(\"all\")))\n",
    "\n",
    "# Create another frame inside the canvas\n",
    "second_frame = tk.Frame(my_canvas)\n",
    "second_frame.pack()\n",
    "\n",
    "main_frame.pack(fill = tk.BOTH, expand = 1, padx = 10, pady = 10)\n",
    "backup_frame.pack(fill = tk.BOTH, expand = 1, padx = 10, pady = 10)\n",
    "\n",
    "# Add that new frame to a window in the canvas\n",
    "my_canvas.create_window((0,0), window = second_frame, anchor = 'nw')\n",
    "\n",
    "### Path to the submit file ###################################################################################################################################\n",
    "submit_path = Path(bibliometer_path) / Path(variable.get()) / Path(bdd_mensuelle_alias) / Path(submit_alias)\n",
    "###############################################################################################################################################################\n",
    "\n",
    "### Charger la df #############################################################################################################################################\n",
    "df = pd.read_excel(submit_path)\n",
    "df['Nom Prénom']=df.apply(lambda x:'%s %s' % (x['Nom'], x['Prénom']),axis=1)\n",
    "df_1 = df[SET_1]\n",
    "df_1.fillna('', inplace=True)\n",
    "###############################################################################################################################################################\n",
    "\n",
    "for i in range(len(df_1.columns)):\n",
    "    tmp = ColumnFilter(second_frame, df_1.columns[i], df_1)\n",
    "    tmp.place(y = i)\n",
    "\n",
    "newWindow.mainloop()"
   ]
  },
  {
   "cell_type": "code",
   "execution_count": null,
   "id": "e4e6aac1-f641-4fcb-8d85-95b80855c429",
   "metadata": {
    "jupyter": {
     "source_hidden": true
    },
    "tags": []
   },
   "outputs": [],
   "source": [
    "### Exo création de filtre\n",
    "import pandas as pd\n",
    "\n",
    "nom_nouveau_fichier = 'hello.xlsx'\n",
    "\n",
    "df_submit = pd.read_excel(r'S:\\130-LITEN\\130.1-Direction\\130.1.2-Direction Scientifique\\130.1.2.1-Dossiers en cours\\111- Ludovic Desmeuzes\\BiblioMeter_Files\\2022\\BDD multi mensuelle\\submit.xlsx')\n",
    "\n",
    "columns_to_keep = set(['Pub_id', \n",
    "                   'Idx_author', \n",
    "                   'Authors',  \n",
    "                   'DOI', \n",
    "                   'ISSN', \n",
    "                   'LITEN_France',  \n",
    "                   'Document_type',\n",
    "                   'Matricule', \n",
    "                   'Nom', \n",
    "                   'Prénom', \n",
    "                   'Dpt/DOB (lib court)', \n",
    "                   'Service (lib court)', \n",
    "                   'Laboratoire (lib court)', \n",
    "                   'Laboratoire (lib long)',\n",
    "                   'List_of_OTP',\n",
    "                   'HOMONYM'])\n",
    "\n",
    "columns_to_remove = list(set(df_submit.columns.tolist()) - columns_to_keep)\n",
    "\n",
    "# Remettre les Pub_ID dans l'ordre\n",
    "df_submit.sort_values(by=['Pub_id', 'Dpt/DOB (lib court)'], ascending=False, inplace = True)\n",
    "df_submit.sort_values(by=['Pub_id', 'Idx_author'], ascending=True, inplace = True)\n",
    "\n",
    "for column in columns_to_remove:\n",
    "    df_submit.drop(column, 1, inplace = True)\n",
    "df_submit.columns\n",
    "\n",
    "new_df = pd.DataFrame(df_submit.columns)\n",
    "new_df.to_excel(r'S:\\130-LITEN\\130.1-Direction\\130.1.2-Direction Scientifique\\130.1.2.1-Dossiers en cours\\111- Ludovic Desmeuzes\\BiblioMeter_Files\\Filtres\\OTP_DTNM.xlsx')"
   ]
  },
  {
   "cell_type": "code",
   "execution_count": null,
   "id": "ed0de89c-bb1e-4ec4-ba5a-2a35364bfdfe",
   "metadata": {
    "jupyter": {
     "source_hidden": true
    },
    "tags": []
   },
   "outputs": [],
   "source": [
    "in_path = r'S:/130-LITEN/130.1-Direction/130.1.2-Direction Scientifique/130.1.2.1-Dossiers en cours/111- Ludovic Desmeuzes/BiblioMeter_Files/2021/BDD multi mensuelle/submit.xlsx'\n",
    "out_path = r'S:/130-LITEN/130.1-Direction/130.1.2-Direction Scientifique/130.1.2.1-Dossiers en cours/111- Ludovic Desmeuzes/BiblioMeter_Files/2021/BDD multi mensuelle/par_dep.xlsx'\n",
    "\n",
    "#def filtrer_par_departement(in_path, out_path, dep_to_keep, et_ou):\n",
    "'''\n",
    "Faire attention à ce que path mène à un fichier submit\n",
    "\n",
    "Args : \n",
    "path : chemin vers fichier submit\n",
    "dep_to_keep : liste de 0 et 1 disant quel département inclure\n",
    "\n",
    "Returns :\n",
    "un fichier excel\n",
    "'''\n",
    "\n",
    "# Local imports\n",
    "from BiblioMeter_GUI.Globals_GUI import SET_OTP\n",
    "\n",
    "# 3rd party imports\n",
    "import pandas as pd\n",
    "\n",
    "### Charger la df et ajouter les 4 colonnes ###################################################################################################################\n",
    "df = pd.read_excel(in_path)\n",
    "df_OTP = df[SET_OTP]\n",
    "df_OTP.fillna('', inplace=True)\n",
    "df_OTP.set_index('Pub_id', inplace = True)\n",
    "\n",
    "data = [0] * len(df_OTP)\n",
    "df_OTP['DTNM'] = data\n",
    "df_OTP['DTS'] = data\n",
    "df_OTP['DTCH'] = data\n",
    "df_OTP['DEHT'] = data\n",
    "###############################################################################################################################################################\n",
    "\n",
    "for i in df_OTP.index.unique().to_list():\n",
    "\n",
    "    if isinstance(df_OTP.loc[i], pd.Series):\n",
    "        df_inter_pub_id = df_OTP.loc[i].to_frame().T\n",
    "    else:\n",
    "        df_inter_pub_id = df_OTP.loc[i]\n",
    "\n",
    "    for j in df_inter_pub_id['Idx_author']:\n",
    "\n",
    "        filtre_inter_author = df_inter_pub_id['Idx_author'] == j\n",
    "        df_inter_inter = df_inter_pub_id[filtre_inter_author]\n",
    "\n",
    "        if df_inter_inter['Dpt/DOB (lib court)'].to_list()[0] == 'DTNM':\n",
    "            df_OTP.loc[i,'DTNM'] = 1\n",
    "        elif df_inter_inter['Dpt/DOB (lib court)'].to_list()[0] == 'DTS':\n",
    "            df_OTP.loc[i,'DTS'] = 1\n",
    "        elif df_inter_inter['Dpt/DOB (lib court)'].to_list()[0] == 'DEHT':\n",
    "            df_OTP.loc[i,'DEHT'] = 1\n",
    "        else:\n",
    "            df_OTP.loc[i,'DTCH'] = 1\n",
    "\n",
    "#df_OTP.drop(['Idx_author'], axis=1, inplace = True)\n",
    "df_OTP.reset_index(inplace = True)\n",
    "df_OTP.drop_duplicates(subset = ['Pub_id'], inplace = True)\n",
    "df_OTP.set_index('Pub_id', inplace = True)\n",
    "df_OTP.to_excel(out_path)"
   ]
  },
  {
   "cell_type": "code",
   "execution_count": null,
   "id": "168d4a8b-0cd5-4720-a14b-d44abd6e23e7",
   "metadata": {
    "tags": []
   },
   "outputs": [],
   "source": [
    "def replace_by_one(df, row, column):\n",
    "    df.loc[row, column] = 1\n",
    "    \n",
    "df_OTP.loc[15].apply(replace_by_one(df, 15, 'DTCH'))"
   ]
  },
  {
   "cell_type": "code",
   "execution_count": 1,
   "id": "9469ef0a-689c-412d-a208-9f96f3f8dcd8",
   "metadata": {
    "tags": []
   },
   "outputs": [
    {
     "name": "stderr",
     "output_type": "stream",
     "text": [
      "[nltk_data] Downloading package averaged_perceptron_tagger to\n",
      "[nltk_data]     C:\\Users\\LD259969\\AppData\\Roaming\\nltk_data...\n",
      "[nltk_data]   Package averaged_perceptron_tagger is already up-to-\n",
      "[nltk_data]       date!\n",
      "[nltk_data] Downloading package punkt to\n",
      "[nltk_data]     C:\\Users\\LD259969\\AppData\\Roaming\\nltk_data...\n",
      "[nltk_data]   Package punkt is already up-to-date!\n",
      "[nltk_data] Downloading package wordnet to\n",
      "[nltk_data]     C:\\Users\\LD259969\\AppData\\Roaming\\nltk_data...\n",
      "[nltk_data]   Package wordnet is already up-to-date!\n"
     ]
    },
    {
     "name": "stdout",
     "output_type": "stream",
     "text": [
      "Number of detected displays: 2\n"
     ]
    },
    {
     "name": "stdin",
     "output_type": "stream",
     "text": [
      "\n",
      "Select Id of gui prime-display (value: 0 to 1; default:1) \n"
     ]
    },
    {
     "name": "stderr",
     "output_type": "stream",
     "text": [
      "C:\\Users\\LD259969\\Documents\\PyVenv\\BiblioMeter\\BiblioMeter_FUNCTS\\BiblioMeterFonctions.py:476: SettingWithCopyWarning: \n",
      "A value is trying to be set on a copy of a slice from a DataFrame.\n",
      "Try using .loc[row_indexer,col_indexer] = value instead\n",
      "\n",
      "See the caveats in the documentation: https://pandas.pydata.org/pandas-docs/stable/user_guide/indexing.html#returning-a-view-versus-a-copy\n",
      "  df_inter['Authors Fullname List'] = authors_fullname_list\n"
     ]
    }
   ],
   "source": [
    "import pandas as pd\n",
    "from BiblioMeter_FUNCTS.BiblioMeterFonctions import add_authors_name_list\n",
    "\n",
    "in_path = r'S:/130-LITEN/130.1-Direction/130.1.2-Direction Scientifique/130.1.2.1-Dossiers en cours/111- Ludovic Desmeuzes/BiblioMeter_Files/2018/BDD multi mensuelle/submit.xlsx'\n",
    "\n",
    "\n",
    "add_authors_name_list(r'S:/130-LITEN/130.1-Direction/130.1.2-Direction Scientifique/130.1.2.1-Dossiers en cours/111- Ludovic Desmeuzes/BiblioMeter_Files/2018/BDD multi mensuelle/submit.xlsx', \n",
    "                      r'S:/130-LITEN/130.1-Direction/130.1.2-Direction Scientifique/130.1.2.1-Dossiers en cours/111- Ludovic Desmeuzes/BiblioMeter_Files/2018/BDD multi mensuelle/submit.xlsx')"
   ]
  },
  {
   "cell_type": "code",
   "execution_count": null,
   "id": "d3635555-6edf-4986-ac9e-d42e99b895a5",
   "metadata": {},
   "outputs": [],
   "source": [
    "if isinstance(df, pd.DataFrame):\n",
    "    to_check = ['Nom', 'Prénom']\n",
    "    for i in to_check:\n",
    "        if 'Nom' not in df:\n",
    "            raise KeyError(f\"The column {i} is not in DataFrame\")\n",
    "else:\n",
    "    raise TypeError(f\"The variable {df} is not of proper type, it has to be a DataFrame\")\n",
    "    \n",
    "df['Nom Prénom'] = df['Nom'] + ', ' + df['Prénom']"
   ]
  },
  {
   "cell_type": "code",
   "execution_count": null,
   "id": "bc5abbab-e361-4b70-9adc-1da8c63d6118",
   "metadata": {},
   "outputs": [],
   "source": [
    "df_inter = df[(df['Pub_id'] == 3)]"
   ]
  },
  {
   "cell_type": "code",
   "execution_count": null,
   "id": "5c4334f5-acb6-4125-b829-f08171a07cfb",
   "metadata": {},
   "outputs": [],
   "source": [
    "authors_fullname_list = '; '.join(df_inter['Nom Prénom'].tolist())"
   ]
  },
  {
   "cell_type": "code",
   "execution_count": null,
   "id": "a0fe47b9-c59d-4455-9210-1cab4f8a55e0",
   "metadata": {},
   "outputs": [],
   "source": [
    "authors_fullname_list"
   ]
  },
  {
   "cell_type": "code",
   "execution_count": null,
   "id": "9ae03ccb-5c5d-4d36-9698-ea2eb6092a7f",
   "metadata": {},
   "outputs": [],
   "source": [
    "df_inter_lol = pd.DataFrame.from_dict({x[0]:['; '.join(x[1]['Nom Prénom'])] for x in df.groupby(['Pub_id'])}).T"
   ]
  },
  {
   "cell_type": "code",
   "execution_count": null,
   "id": "9ac8d37f-391a-4571-a4fc-d7b027ee9e4e",
   "metadata": {},
   "outputs": [],
   "source": [
    "df_out = pd.DataFrame()\n",
    "for i in df['Pub_id'].unique().tolist():\n",
    "        filtre_inter_pub_id = (df['Pub_id'] == i)\n",
    "        df_inter = df[filtre_inter_pub_id]\n",
    "        authors_fullname_list = '; '.join(df_inter['Nom Prénom'].tolist())\n",
    "        df_inter['Authors Fullname List'] = authors_fullname_list\n",
    "        df_out = df_out.append(df_inter)"
   ]
  },
  {
   "cell_type": "code",
   "execution_count": null,
   "id": "a2c2695a-5b5d-4c5a-8c82-a6a3d1cb9fab",
   "metadata": {},
   "outputs": [],
   "source": [
    "df_out.set_index('Pub_id')"
   ]
  },
  {
   "cell_type": "code",
   "execution_count": null,
   "id": "caab2357-5197-44c2-a577-ef801bc76e19",
   "metadata": {},
   "outputs": [],
   "source": []
  }
 ],
 "metadata": {
  "kernelspec": {
   "display_name": "BiblioMeter_kernel",
   "language": "python",
   "name": "bibliometer_kernel"
  },
  "language_info": {
   "codemirror_mode": {
    "name": "ipython",
    "version": 3
   },
   "file_extension": ".py",
   "mimetype": "text/x-python",
   "name": "python",
   "nbconvert_exporter": "python",
   "pygments_lexer": "ipython3",
   "version": "3.9.7"
  }
 },
 "nbformat": 4,
 "nbformat_minor": 5
}
